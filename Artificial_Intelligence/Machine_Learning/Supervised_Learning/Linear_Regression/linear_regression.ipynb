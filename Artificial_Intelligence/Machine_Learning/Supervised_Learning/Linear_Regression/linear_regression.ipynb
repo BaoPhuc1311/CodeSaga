{
 "cells": [
  {
   "cell_type": "markdown",
   "metadata": {},
   "source": [
    "# Linear Regression - Hồi quy tuyến tính\n",
    "\n",
    "## 1. Giới thiệu\n",
    "Linear Regression (Hồi quy tuyến tính) là mô hình học có giám sát dùng để dự báo giá trị số (Regression). Mô hình này hoạt động dựa trên mối quan hệ tuyến tính giữa biến độc lập \\( X \\) và biến phụ thuộc \\( Y \\).\n",
    "\n",
    "## 2. Cách hoạt động của Linear Regression\n",
    "Mô hình Linear Regression tìm một đường thẳng tốt nhất (best-fit line) để dự báo giá trị \\( Y \\) dựa trên \\( X \\).\n",
    "\n",
    "1. **Xác định hàm hồi quy**:\n",
    "   $$\n",
    "   Y = w_0 + w_1X_1 + w_2X_2 + ... + w_nX_n + \\varepsilon\n",
    "   $$\n",
    "   - \\( w_0 \\) là hằng số chặn (Intercept).\n",
    "   - \\( w_1, w_2, ..., w_n \\) là hệ số hồi quy (Coefficients).\n",
    "   - \\( \\varepsilon \\) là nhiễu (Noise).\n",
    "\n",
    "2. **Tính toán tham số \\( w \\)**:\n",
    "   - Dùng phương pháp **Least Squares Method (OLS - Ordinary Least Squares)**:\n",
    "   $$\n",
    "   w = (X^T X)^{-1} X^T Y\n",
    "   $$\n",
    "\n",
    "## 3. Các công thức quan trọng\n",
    "### 3.1 Mean Squared Error (MSE) - Lỗi bình phương trung bình\n",
    "$$\n",
    "MSE = \\frac{1}{n} \\sum_{i=1}^{n} (Y_i - \\hat{Y}_i)^2\n",
    "$$\n",
    "- \\( Y_i \\) là giá trị thực tế.\n",
    "- \\( \\hat{Y}_i \\) là giá trị dự báo.\n",
    "\n",
    "### 3.2 R-squared (\\( R^2 \\)) - Hiệu quả mô hình\n",
    "$$\n",
    "R^2 = 1 - \\frac{\\sum (Y_i - \\hat{Y}_i)^2}{\\sum (Y_i - \\bar{Y})^2}\n",
    "$$\n",
    "- \\( \\bar{Y} \\) là giá trị trung bình của \\( Y \\).\n",
    "- \\( R^2 \\) dao động từ 0 đến 1, càng gần 1 thì mô hình càng tốt.\n",
    "\n",
    "### 3.3 Gradient Descent - Cập nhật tham số\n",
    "Công thức cập nhật hệ số \\( w \\) trong quá trình huấn luyện:\n",
    "$$\n",
    " w_j := w_j - \\alpha \\frac{\\partial J}{\\partial w_j}\n",
    "$$\n",
    "- \\( \\alpha \\) là tốc độ học (Learning rate).\n",
    "- \\( J \\) là hàm mất mát (Loss function).\n",
    "\n",
    "## 4. Ứng dụng của Linear Regression\n",
    "- **Dự báo giá nhà**: Dự báo giá nhà dựa vào diện tích, vị trí.\n",
    "- **Phân tích doanh thu**: Dự báo doanh thu của một công ty dựa trên chi tiêu quảng cáo.\n",
    "- **Phân tích xu hướng thị trường**: Dự đoán giá trị của một cổ phiếu trong tương lai.\n",
    "\n"
   ]
  }
 ],
 "metadata": {
  "language_info": {
   "name": "python"
  }
 },
 "nbformat": 4,
 "nbformat_minor": 2
}
