{
 "cells": [
  {
   "cell_type": "markdown",
   "metadata": {},
   "source": [
    "# Naive Bayes - Mô hình xác suất có giám sát\n",
    "\n",
    "## 1. Giới thiệu\n",
    "Naïve Bayes là một thuật toán thuộc nhóm **Supervised Learning (Học có giám sát)**, chủ yếu được sử dụng cho các bài toán phân loại (Classification). \n",
    "Thuật toán này dựa trên **Định lý Bayes**, với giả định rằng các đặc trưng là độc lập với nhau (giả định \"naïve\").\n",
    "\n",
    "## 2. Cách hoạt động của Naive Bayes\n",
    "Quá trình thực hiện gồm 3 bước chính:\n",
    "\n",
    "1. **Tính toán xác suất tiên nghiệm của mỗi lớp** \\( P(Y) \\).\n",
    "2. **Tính toán xác suất có điều kiện** \\( P(X | Y) \\) cho từng đặc trưng.\n",
    "3. **Áp dụng Định lý Bayes** để tìm xác suất lớp \\( P(Y | X) \\) và chọn lớp có xác suất cao nhất.\n",
    "\n",
    "## 3. Các công thức toán học quan trọng\n",
    "\n",
    "### 3.1 Định lý Bayes\n",
    "\n",
    "$$\n",
    "P(Y | X) = \\frac{P(X | Y) P(Y)}{P(X)}\n",
    "$$\n",
    "\n",
    "Trong đó:\n",
    "- \\( P(Y | X) \\) là xác suất của lớp \\( Y \\) khi biết đặc trưng \\( X \\).\n",
    "- \\( P(X | Y) \\) là xác suất xuất hiện của \\( X \\) khi biết \\( Y \\).\n",
    "- \\( P(Y) \\) là xác suất tiên nghiệm của \\( Y \\).\n",
    "- \\( P(X) \\) là xác suất của đặc trưng \\( X \\).\n",
    "\n",
    "### 3.2 Giả định Độc lập (Naive Assumption)\n",
    "\n",
    "Giả sử tập dữ liệu có các đặc trưng \\( X_1, X_2, ..., X_n \\), ta giả định các đặc trưng là độc lập:\n",
    "\n",
    "$$\n",
    "P(X | Y) = P(X_1 | Y) P(X_2 | Y) ... P(X_n | Y)\n",
    "$$\n",
    "\n",
    "### 3.3 Phân phối Likelihood của đặc trưng\n",
    "Tuỳ vào loại dữ liệu, ta sử dụng các mô hình khác nhau:\n",
    "- **Naive Bayes với phân phối Bernoulli** (Dữ liệu nhị phân):\n",
    "  $$ P(X_i | Y) = p^{X_i} (1 - p)^{(1 - X_i)} $$\n",
    "- **Naive Bayes với phân phối Gaussian** (Dữ liệu liên tục):\n",
    "  $$ P(X_i | Y) = \\frac{1}{\\sqrt{2\\pi \\sigma^2}} e^{-\\frac{(X_i - \\mu)^2}{2\\sigma^2}} $$\n",
    "\n",
    "## 4. Ứng dụng thực tế của Naive Bayes\n",
    "- **Phân loại email spam**.\n",
    "- **Nhận diện cảm xúc trong văn bản**.\n",
    "- **Dự đoán bệnh dựa trên triệu chứng**.\n",
    "- **Phân loại tài liệu (Text Classification)**."
   ]
  }
 ],
 "metadata": {
  "language_info": {
   "name": "python"
  }
 },
 "nbformat": 4,
 "nbformat_minor": 2
}
