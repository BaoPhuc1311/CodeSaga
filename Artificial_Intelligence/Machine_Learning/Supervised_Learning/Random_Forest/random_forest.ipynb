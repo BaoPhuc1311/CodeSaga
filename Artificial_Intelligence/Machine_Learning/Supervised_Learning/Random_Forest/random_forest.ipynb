{
 "cells": [
  {
   "cell_type": "markdown",
   "metadata": {},
   "source": [
    "# Random Forest - Mô hình học tập tổ hợp mạnh mẽ\n",
    "\n",
    "## 1. Giới thiệu  \n",
    "Random Forest là một thuật toán thuộc nhóm **Supervised Learning (Học có giám sát)**, được sử dụng cho cả bài toán phân loại (Classification) và hồi quy (Regression).  \n",
    "Mô hình này là một **tập hợp nhiều cây quyết định (Decision Trees)**, hoạt động dựa trên nguyên lý **Bagging (Bootstrap Aggregating)** để cải thiện độ chính xác và giảm overfitting.\n",
    "\n",
    "## 2. Cách hoạt động của Random Forest  \n",
    "Quá trình thực hiện gồm 4 bước chính:  \n",
    "\n",
    "1. **Tạo nhiều tập dữ liệu con** bằng phương pháp **Bootstrap Sampling** từ tập dữ liệu ban đầu.  \n",
    "2. **Huấn luyện mỗi cây quyết định** trên một tập dữ liệu con khác nhau.  \n",
    "3. **Dự đoán bằng từng cây**, sau đó lấy trung bình (đối với hồi quy) hoặc bỏ phiếu đa số (đối với phân loại).  \n",
    "4. **Kết hợp kết quả** từ tất cả các cây để đưa ra dự đoán cuối cùng.  \n",
    "\n",
    "## 3. Các công thức toán học quan trọng  \n",
    "\n",
    "### 3.1 Bootstrap Sampling  \n",
    "Mỗi tập dữ liệu con \\( D_i \\) được tạo từ tập dữ liệu gốc \\( D \\) bằng cách chọn ngẫu nhiên các mẫu với thay thế.  \n",
    "\n",
    "### 3.2 Hàm quyết định tổng hợp  \n",
    "- **Đối với phân loại**: Dự đoán được chọn theo nguyên tắc **bỏ phiếu đa số** (Majority Voting).  \n",
    "  $$ \\hat{Y} = \\text{mode} \\{ h_1(X), h_2(X), ..., h_T(X) \\} $$  \n",
    "- **Đối với hồi quy**: Dự đoán là giá trị trung bình của tất cả các cây:  \n",
    "  $$ \\hat{Y} = \\frac{1}{T} \\sum_{t=1}^{T} h_t(X) $$  \n",
    "Trong đó:  \n",
    "- \\( T \\) là số lượng cây trong rừng.  \n",
    "- \\( h_t(X) \\) là dự đoán của cây quyết định thứ \\( t \\).  \n",
    "\n",
    "## 4. Ứng dụng thực tế của Random Forest  \n",
    "- **Phát hiện gian lận (Fraud Detection)**.  \n",
    "- **Chẩn đoán bệnh dựa trên triệu chứng**.  \n",
    "- **Dự báo doanh thu và phân tích tài chính**.  \n",
    "- **Nhận dạng hình ảnh và phân loại văn bản**."
   ]
  }
 ],
 "metadata": {
  "language_info": {
   "name": "python"
  }
 },
 "nbformat": 4,
 "nbformat_minor": 2
}
